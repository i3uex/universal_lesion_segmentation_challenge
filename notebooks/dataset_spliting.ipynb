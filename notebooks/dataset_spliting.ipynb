{
 "cells": [
  {
   "cell_type": "code",
   "id": "initial_id",
   "metadata": {
    "collapsed": true,
    "ExecuteTime": {
     "end_time": "2024-07-16T10:20:25.460823Z",
     "start_time": "2024-07-16T10:20:21.993768Z"
    }
   },
   "source": [
    "import logging\n",
    "from preprocessing.covid_dataset import CovidDataset\n",
    "from monai.data import DataLoader\n",
    "import monai\n",
    "from config.constants import SEED, ZENODO_COVID_CASES_PATH, ZENODO_LUNG_MASKS_PATH, ZENODO_INFECTION_MASKS_PATH, COVID_PREPROCESSED_CASES_PATH, INFECTION_PREPROCESSED_MASKS_PATH\n",
    "import torch\n",
    "import numpy as np\n",
    "import matplotlib.pyplot as plt\n",
    "from pathlib import Path\n",
    "from preprocessing.transforms import get_cbct_transforms, get_hrct_transforms, get_val_cbct_transforms, get_val_hrct_transforms"
   ],
   "outputs": [
    {
     "name": "stderr",
     "output_type": "stream",
     "text": [
      "2024-07-16 12:20:24.426217: I tensorflow/core/platform/cpu_feature_guard.cc:210] This TensorFlow binary is optimized to use available CPU instructions in performance-critical operations.\n",
      "To enable the following instructions: AVX2 FMA, in other operations, rebuild TensorFlow with the appropriate compiler flags.\n",
      "2024-07-16 12:20:25.013156: W tensorflow/compiler/tf2tensorrt/utils/py_utils.cc:38] TF-TRT Warning: Could not find TensorRT\n"
     ]
    }
   ],
   "execution_count": 1
  },
  {
   "metadata": {
    "ExecuteTime": {
     "end_time": "2024-07-16T10:20:25.464392Z",
     "start_time": "2024-07-16T10:20:25.461930Z"
    }
   },
   "cell_type": "code",
   "source": [
    "def load_images_from_path(path: str) -> list[str]:\n",
    "    logging.debug(f\"Loading images from {path}\")\n",
    "    return sorted([str(f) for f in Path(path).iterdir() if f.is_file() and f.suffix == '.gz'])\n"
   ],
   "id": "2a235a45a4d642b3",
   "outputs": [],
   "execution_count": 2
  },
  {
   "metadata": {
    "ExecuteTime": {
     "end_time": "2024-07-16T09:14:00.253543Z",
     "start_time": "2024-07-16T09:14:00.243822Z"
    }
   },
   "cell_type": "code",
   "source": [
    "# Load images and masks\n",
    "logging.info(f\"Loading images from {ZENODO_COVID_CASES_PATH}\")\n",
    "images = load_images_from_path(\"../\" + ZENODO_COVID_CASES_PATH)\n",
    "labels = load_images_from_path(\"../\" + ZENODO_INFECTION_MASKS_PATH)\n",
    "\n",
    "# Convert images and masks to a list of dictionaries with keys \"img\" and \"mask\"\n",
    "data_dicts = np.array([{\"img\": img, \"mask\": mask} for img, mask in zip(images, labels)])\n",
    "logging.debug(data_dicts)\n",
    "\n",
    "print(data_dicts)\n",
    "shuffler = np.random.RandomState(33)\n",
    "shuffler.shuffle(data_dicts)\n",
    "data_dicts = list(data_dicts)\n",
    "print(type(data_dicts))\n",
    "print(data_dicts)\n",
    "print(SEED)\n",
    "\n",
    "# Split the data into training (70%), validation (20%), and test sets (10%)\n",
    "test_split = int(len(data_dicts) * 0.1)\n",
    "val_split = int(len(data_dicts) * 0.2)\n",
    "\n",
    "train_paths = data_dicts[test_split + val_split:]\n",
    "val_paths = data_dicts[test_split:test_split + val_split]\n",
    "test_paths = data_dicts[:test_split]"
   ],
   "id": "5c95a28f74e4e092",
   "outputs": [
    {
     "name": "stdout",
     "output_type": "stream",
     "text": [
      "[{'img': '../Datasets/Zenodo/COVID-19-CT-Seg_20cases/coronacases_001.nii.gz', 'mask': '../Datasets/Zenodo/Infection_Mask/coronacases_001.nii.gz'}\n",
      " {'img': '../Datasets/Zenodo/COVID-19-CT-Seg_20cases/coronacases_002.nii.gz', 'mask': '../Datasets/Zenodo/Infection_Mask/coronacases_002.nii.gz'}\n",
      " {'img': '../Datasets/Zenodo/COVID-19-CT-Seg_20cases/coronacases_003.nii.gz', 'mask': '../Datasets/Zenodo/Infection_Mask/coronacases_003.nii.gz'}\n",
      " {'img': '../Datasets/Zenodo/COVID-19-CT-Seg_20cases/coronacases_004.nii.gz', 'mask': '../Datasets/Zenodo/Infection_Mask/coronacases_004.nii.gz'}\n",
      " {'img': '../Datasets/Zenodo/COVID-19-CT-Seg_20cases/coronacases_005.nii.gz', 'mask': '../Datasets/Zenodo/Infection_Mask/coronacases_005.nii.gz'}\n",
      " {'img': '../Datasets/Zenodo/COVID-19-CT-Seg_20cases/coronacases_006.nii.gz', 'mask': '../Datasets/Zenodo/Infection_Mask/coronacases_006.nii.gz'}\n",
      " {'img': '../Datasets/Zenodo/COVID-19-CT-Seg_20cases/coronacases_007.nii.gz', 'mask': '../Datasets/Zenodo/Infection_Mask/coronacases_007.nii.gz'}\n",
      " {'img': '../Datasets/Zenodo/COVID-19-CT-Seg_20cases/coronacases_008.nii.gz', 'mask': '../Datasets/Zenodo/Infection_Mask/coronacases_008.nii.gz'}\n",
      " {'img': '../Datasets/Zenodo/COVID-19-CT-Seg_20cases/coronacases_009.nii.gz', 'mask': '../Datasets/Zenodo/Infection_Mask/coronacases_009.nii.gz'}\n",
      " {'img': '../Datasets/Zenodo/COVID-19-CT-Seg_20cases/coronacases_010.nii.gz', 'mask': '../Datasets/Zenodo/Infection_Mask/coronacases_010.nii.gz'}\n",
      " {'img': '../Datasets/Zenodo/COVID-19-CT-Seg_20cases/radiopaedia_10_85902_1.nii.gz', 'mask': '../Datasets/Zenodo/Infection_Mask/radiopaedia_10_85902_1.nii.gz'}\n",
      " {'img': '../Datasets/Zenodo/COVID-19-CT-Seg_20cases/radiopaedia_10_85902_3.nii.gz', 'mask': '../Datasets/Zenodo/Infection_Mask/radiopaedia_10_85902_3.nii.gz'}\n",
      " {'img': '../Datasets/Zenodo/COVID-19-CT-Seg_20cases/radiopaedia_14_85914_0.nii.gz', 'mask': '../Datasets/Zenodo/Infection_Mask/radiopaedia_14_85914_0.nii.gz'}\n",
      " {'img': '../Datasets/Zenodo/COVID-19-CT-Seg_20cases/radiopaedia_27_86410_0.nii.gz', 'mask': '../Datasets/Zenodo/Infection_Mask/radiopaedia_27_86410_0.nii.gz'}\n",
      " {'img': '../Datasets/Zenodo/COVID-19-CT-Seg_20cases/radiopaedia_29_86490_1.nii.gz', 'mask': '../Datasets/Zenodo/Infection_Mask/radiopaedia_29_86490_1.nii.gz'}\n",
      " {'img': '../Datasets/Zenodo/COVID-19-CT-Seg_20cases/radiopaedia_29_86491_1.nii.gz', 'mask': '../Datasets/Zenodo/Infection_Mask/radiopaedia_29_86491_1.nii.gz'}\n",
      " {'img': '../Datasets/Zenodo/COVID-19-CT-Seg_20cases/radiopaedia_36_86526_0.nii.gz', 'mask': '../Datasets/Zenodo/Infection_Mask/radiopaedia_36_86526_0.nii.gz'}\n",
      " {'img': '../Datasets/Zenodo/COVID-19-CT-Seg_20cases/radiopaedia_40_86625_0.nii.gz', 'mask': '../Datasets/Zenodo/Infection_Mask/radiopaedia_40_86625_0.nii.gz'}\n",
      " {'img': '../Datasets/Zenodo/COVID-19-CT-Seg_20cases/radiopaedia_4_85506_1.nii.gz', 'mask': '../Datasets/Zenodo/Infection_Mask/radiopaedia_4_85506_1.nii.gz'}\n",
      " {'img': '../Datasets/Zenodo/COVID-19-CT-Seg_20cases/radiopaedia_7_85703_0.nii.gz', 'mask': '../Datasets/Zenodo/Infection_Mask/radiopaedia_7_85703_0.nii.gz'}]\n",
      "<class 'list'>\n",
      "[{'img': '../Datasets/Zenodo/COVID-19-CT-Seg_20cases/radiopaedia_40_86625_0.nii.gz', 'mask': '../Datasets/Zenodo/Infection_Mask/radiopaedia_40_86625_0.nii.gz'}, {'img': '../Datasets/Zenodo/COVID-19-CT-Seg_20cases/coronacases_009.nii.gz', 'mask': '../Datasets/Zenodo/Infection_Mask/coronacases_009.nii.gz'}, {'img': '../Datasets/Zenodo/COVID-19-CT-Seg_20cases/radiopaedia_29_86491_1.nii.gz', 'mask': '../Datasets/Zenodo/Infection_Mask/radiopaedia_29_86491_1.nii.gz'}, {'img': '../Datasets/Zenodo/COVID-19-CT-Seg_20cases/radiopaedia_4_85506_1.nii.gz', 'mask': '../Datasets/Zenodo/Infection_Mask/radiopaedia_4_85506_1.nii.gz'}, {'img': '../Datasets/Zenodo/COVID-19-CT-Seg_20cases/coronacases_006.nii.gz', 'mask': '../Datasets/Zenodo/Infection_Mask/coronacases_006.nii.gz'}, {'img': '../Datasets/Zenodo/COVID-19-CT-Seg_20cases/coronacases_001.nii.gz', 'mask': '../Datasets/Zenodo/Infection_Mask/coronacases_001.nii.gz'}, {'img': '../Datasets/Zenodo/COVID-19-CT-Seg_20cases/radiopaedia_10_85902_3.nii.gz', 'mask': '../Datasets/Zenodo/Infection_Mask/radiopaedia_10_85902_3.nii.gz'}, {'img': '../Datasets/Zenodo/COVID-19-CT-Seg_20cases/coronacases_005.nii.gz', 'mask': '../Datasets/Zenodo/Infection_Mask/coronacases_005.nii.gz'}, {'img': '../Datasets/Zenodo/COVID-19-CT-Seg_20cases/radiopaedia_7_85703_0.nii.gz', 'mask': '../Datasets/Zenodo/Infection_Mask/radiopaedia_7_85703_0.nii.gz'}, {'img': '../Datasets/Zenodo/COVID-19-CT-Seg_20cases/coronacases_002.nii.gz', 'mask': '../Datasets/Zenodo/Infection_Mask/coronacases_002.nii.gz'}, {'img': '../Datasets/Zenodo/COVID-19-CT-Seg_20cases/radiopaedia_29_86490_1.nii.gz', 'mask': '../Datasets/Zenodo/Infection_Mask/radiopaedia_29_86490_1.nii.gz'}, {'img': '../Datasets/Zenodo/COVID-19-CT-Seg_20cases/radiopaedia_10_85902_1.nii.gz', 'mask': '../Datasets/Zenodo/Infection_Mask/radiopaedia_10_85902_1.nii.gz'}, {'img': '../Datasets/Zenodo/COVID-19-CT-Seg_20cases/radiopaedia_14_85914_0.nii.gz', 'mask': '../Datasets/Zenodo/Infection_Mask/radiopaedia_14_85914_0.nii.gz'}, {'img': '../Datasets/Zenodo/COVID-19-CT-Seg_20cases/radiopaedia_36_86526_0.nii.gz', 'mask': '../Datasets/Zenodo/Infection_Mask/radiopaedia_36_86526_0.nii.gz'}, {'img': '../Datasets/Zenodo/COVID-19-CT-Seg_20cases/radiopaedia_27_86410_0.nii.gz', 'mask': '../Datasets/Zenodo/Infection_Mask/radiopaedia_27_86410_0.nii.gz'}, {'img': '../Datasets/Zenodo/COVID-19-CT-Seg_20cases/coronacases_007.nii.gz', 'mask': '../Datasets/Zenodo/Infection_Mask/coronacases_007.nii.gz'}, {'img': '../Datasets/Zenodo/COVID-19-CT-Seg_20cases/coronacases_004.nii.gz', 'mask': '../Datasets/Zenodo/Infection_Mask/coronacases_004.nii.gz'}, {'img': '../Datasets/Zenodo/COVID-19-CT-Seg_20cases/coronacases_010.nii.gz', 'mask': '../Datasets/Zenodo/Infection_Mask/coronacases_010.nii.gz'}, {'img': '../Datasets/Zenodo/COVID-19-CT-Seg_20cases/coronacases_003.nii.gz', 'mask': '../Datasets/Zenodo/Infection_Mask/coronacases_003.nii.gz'}, {'img': '../Datasets/Zenodo/COVID-19-CT-Seg_20cases/coronacases_008.nii.gz', 'mask': '../Datasets/Zenodo/Infection_Mask/coronacases_008.nii.gz'}]\n",
      "420\n"
     ]
    }
   ],
   "execution_count": 12
  },
  {
   "metadata": {
    "ExecuteTime": {
     "end_time": "2024-07-16T10:20:32.216044Z",
     "start_time": "2024-07-16T10:20:32.210496Z"
    }
   },
   "cell_type": "code",
   "source": [
    "# Load images and masks\n",
    "images = load_images_from_path(\"../\" + COVID_PREPROCESSED_CASES_PATH)\n",
    "labels = load_images_from_path(\"../\" + INFECTION_PREPROCESSED_MASKS_PATH)\n",
    "\n",
    "# Take only the images that are from Mosmed\n",
    "train_images = [image for image in images if \"radiopaedia\" not in image and \"coronacases\" not in image]\n",
    "train_labels = [label for label in labels if \"radiopaedia\" not in label and \"coronacases\" not in label]\n",
    "\n",
    "# Convert images and masks to a list of dictionaries with keys \"img\" and \"mask\"\n",
    "data_train_dicts = np.array([{\"img\": img, \"mask\": mask} for img, mask in zip(train_images, train_labels)])\n",
    "logging.debug(data_train_dicts)\n",
    "\n",
    "# Shuffle the data\n",
    "shuffler = np.random.RandomState(SEED)\n",
    "shuffler.shuffle(data_train_dicts)\n",
    "data_train_dicts = list(data_train_dicts)\n",
    "\n",
    "# Split the training data into training and validation\n",
    "val_split = int(len(data_train_dicts) * 0.2)\n",
    "\n",
    "train_paths = data_train_dicts[val_split:]\n",
    "val_paths = data_train_dicts[:val_split]\n",
    "\n",
    "# Take coronacases and radiopeadia images for testing\n",
    "test_paths = [image for image in images if \"radiopaedia\" in image or \"coronacases\" in image]\n",
    "\n",
    "for i in range(len(test_paths)):\n",
    "    print(test_paths[i])\n"
   ],
   "id": "ab37a7728de305eb",
   "outputs": [
    {
     "name": "stdout",
     "output_type": "stream",
     "text": [
      "../Datasets/preprocessed/images/coronacases_001.nii.gz\n",
      "../Datasets/preprocessed/images/coronacases_002.nii.gz\n",
      "../Datasets/preprocessed/images/coronacases_003.nii.gz\n",
      "../Datasets/preprocessed/images/coronacases_004.nii.gz\n",
      "../Datasets/preprocessed/images/coronacases_005.nii.gz\n",
      "../Datasets/preprocessed/images/coronacases_006.nii.gz\n",
      "../Datasets/preprocessed/images/coronacases_007.nii.gz\n",
      "../Datasets/preprocessed/images/coronacases_008.nii.gz\n",
      "../Datasets/preprocessed/images/coronacases_009.nii.gz\n",
      "../Datasets/preprocessed/images/coronacases_010.nii.gz\n",
      "../Datasets/preprocessed/images/radiopaedia_10_85902_1.nii.gz\n",
      "../Datasets/preprocessed/images/radiopaedia_10_85902_3.nii.gz\n",
      "../Datasets/preprocessed/images/radiopaedia_14_85914_0.nii.gz\n",
      "../Datasets/preprocessed/images/radiopaedia_27_86410_0.nii.gz\n",
      "../Datasets/preprocessed/images/radiopaedia_29_86490_1.nii.gz\n",
      "../Datasets/preprocessed/images/radiopaedia_29_86491_1.nii.gz\n",
      "../Datasets/preprocessed/images/radiopaedia_36_86526_0.nii.gz\n",
      "../Datasets/preprocessed/images/radiopaedia_40_86625_0.nii.gz\n",
      "../Datasets/preprocessed/images/radiopaedia_4_85506_1.nii.gz\n",
      "../Datasets/preprocessed/images/radiopaedia_7_85703_0.nii.gz\n"
     ]
    }
   ],
   "execution_count": 3
  },
  {
   "metadata": {
    "ExecuteTime": {
     "end_time": "2024-07-16T10:20:35.710666Z",
     "start_time": "2024-07-16T10:20:35.694090Z"
    }
   },
   "cell_type": "code",
   "source": [
    "# Create a dataset and a dataloader for the training set\n",
    "train_dataset = CovidDataset(volumes=train_paths, hrct_transform=get_hrct_transforms(), cbct_transform=get_cbct_transforms())\n",
    "train_loader = DataLoader(train_dataset, batch_size=1, num_workers=2)\n",
    "\n",
    "# Create a dataset and a dataloader for the validation set\n",
    "val_dataset = CovidDataset(volumes=val_paths, hrct_transform=get_val_hrct_transforms(), cbct_transform=get_val_cbct_transforms())\n",
    "val_loader = DataLoader(val_dataset, batch_size=1, num_workers=2)\n",
    "\n",
    "# Create a dataset and a dataloader for the test set\n",
    "test_dataset = CovidDataset(volumes=test_paths, hrct_transform=get_val_hrct_transforms(), cbct_transform=get_val_cbct_transforms())\n",
    "test_loader = DataLoader(test_dataset, batch_size=1, num_workers=2)"
   ],
   "id": "d33bb29a1f67e3a",
   "outputs": [],
   "execution_count": 4
  },
  {
   "metadata": {
    "ExecuteTime": {
     "end_time": "2024-07-16T10:21:05.990857Z",
     "start_time": "2024-07-16T10:21:05.987617Z"
    }
   },
   "cell_type": "code",
   "source": [
    "# create a funcion that takes a dataset an proves if it has only zeros in the mask. In that case throw an error. Also check for radiopaedia and coronacases in the path of the dataset. If there is one that it isn't throw an error\n",
    "def check_dataset(dataset):\n",
    "    radiopaedia = False\n",
    "    coronacases = False\n",
    "    for i, data in enumerate(dataset):\n",
    "        if np.unique(data[\"mask\"]).size == 1 and np.unique(data[\"mask\"])[0] == 0:\n",
    "            raise ValueError(\"The mask has only zeros\")\n",
    "\n",
    "        if \"radiopaedia\" in dataset.volumes[i][\"img\"]:\n",
    "            radiopaedia = True\n",
    "        if \"coronacases\" in dataset.volumes[i][\"img\"]:\n",
    "            coronacases = True\n",
    "\n",
    "    if not radiopaedia or not coronacases:\n",
    "        raise ValueError(\"There are no radiopaedia or coronacases in the dataset\")\n",
    "\n",
    "    return\n",
    "\n",
    "def check_dataset2(dataset):\n",
    "    for i, data in enumerate(dataset):\n",
    "        if np.unique(data[\"mask\"]).size == 1 and np.unique(data[\"mask\"])[0] == 0:\n",
    "            raise ValueError(\"The mask has only zeros\")\n",
    "\n",
    "    return"
   ],
   "id": "fff39c197b266f46",
   "outputs": [],
   "execution_count": 6
  },
  {
   "metadata": {
    "ExecuteTime": {
     "end_time": "2024-07-16T10:21:58.499394Z",
     "start_time": "2024-07-16T10:21:06.402581Z"
    }
   },
   "cell_type": "code",
   "source": [
    "# test validation test\n",
    "check_dataset2(val_dataset)"
   ],
   "id": "218aa8f0bbe3e89",
   "outputs": [],
   "execution_count": 7
  },
  {
   "metadata": {},
   "cell_type": "code",
   "source": [
    "print(val_dataset[0][\"img\"].shape)\n",
    "print(val_dataset[1][\"img\"].shape)\n",
    "print(val_dataset[2][\"img\"].shape)\n",
    "print(val_dataset[3][\"img\"].shape)"
   ],
   "id": "e1050b9f7534e274",
   "outputs": [],
   "execution_count": null
  },
  {
   "metadata": {},
   "cell_type": "code",
   "source": [
    "print(val_dataset)\n",
    "for i, data in enumerate(val_dataset):\n",
    "    print(data[\"mask\"].shape)\n",
    "    print(np.unique(data[\"mask\"]).size == 1)\n",
    "    print(np.unique(data[\"mask\"])[0] == 0)\n"
   ],
   "id": "c867fb7b54723bbd",
   "outputs": [],
   "execution_count": null
  },
  {
   "metadata": {
    "ExecuteTime": {
     "end_time": "2024-07-16T09:31:40.868570Z",
     "start_time": "2024-07-16T09:31:35.110430Z"
    }
   },
   "cell_type": "code",
   "source": [
    "for i, data in enumerate(val_dataset):\n",
    "    # check unique values\n",
    "    print(np.unique(data[\"mask\"]))\n",
    "    break"
   ],
   "id": "ed39a7e016c76dfc",
   "outputs": [
    {
     "name": "stdout",
     "output_type": "stream",
     "text": [
      "HRCT\n",
      "[0. 1.]\n"
     ]
    }
   ],
   "execution_count": 7
  },
  {
   "metadata": {
    "ExecuteTime": {
     "end_time": "2024-07-18T10:29:20.239214Z",
     "start_time": "2024-07-18T10:29:20.234222Z"
    }
   },
   "cell_type": "code",
   "source": "",
   "id": "24dd0df41cf66dec",
   "outputs": [
    {
     "data": {
      "text/plain": [
       "{'epoch': 1, 'train_loss': 0.1, 'val_loss': 0.3}"
      ]
     },
     "execution_count": 12,
     "metadata": {},
     "output_type": "execute_result"
    }
   ],
   "execution_count": 12
  }
 ],
 "metadata": {
  "kernelspec": {
   "display_name": "Python 3",
   "language": "python",
   "name": "python3"
  },
  "language_info": {
   "codemirror_mode": {
    "name": "ipython",
    "version": 2
   },
   "file_extension": ".py",
   "mimetype": "text/x-python",
   "name": "python",
   "nbconvert_exporter": "python",
   "pygments_lexer": "ipython2",
   "version": "2.7.6"
  }
 },
 "nbformat": 4,
 "nbformat_minor": 5
}
