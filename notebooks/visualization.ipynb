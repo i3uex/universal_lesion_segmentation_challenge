{
 "cells": [
  {
   "cell_type": "code",
   "id": "initial_id",
   "metadata": {
    "collapsed": true,
    "ExecuteTime": {
     "end_time": "2024-07-11T17:18:18.092991Z",
     "start_time": "2024-07-11T17:18:18.090052Z"
    }
   },
   "source": [
    "import logging\n",
    "from preprocessing.covid_dataset import CovidDataset\n",
    "from monai.data import DataLoader\n",
    "import monai\n",
    "from config.constants import (COVID_CASES_PATH, INFECTION_MASKS_PATH)\n",
    "import torch\n",
    "import numpy as np\n",
    "import matplotlib.pyplot as plt\n",
    "from monai.visualize import plot_2d_or_3d_image, matshow3d, blend_images\n",
    "from pathlib import Path\n",
    "from utils.helpers import load_images_from_path"
   ],
   "outputs": [],
   "execution_count": 50
  },
  {
   "metadata": {
    "ExecuteTime": {
     "end_time": "2024-07-11T17:25:28.390380Z",
     "start_time": "2024-07-11T17:25:28.376874Z"
    }
   },
   "cell_type": "code",
   "source": [
    "SPATIAL_SIZE = (32, 32, 32)\n",
    "NUM_RAND_PATCHES = 4\n",
    "LEVEL = -650\n",
    "WIDTH = 1500\n",
    "LOWER_BOUND_WINDOW_HRCT = LEVEL - (WIDTH // 2) \n",
    "UPPER_BOUND_WINDOW_HRCT = LEVEL + (WIDTH // 2)\n",
    "LOWER_BOUND_WINDOW_CBCT = 0\n",
    "UPPER_BOUND_WINDOW_CBCT = 255\n",
    "SEED = 33\n",
    "SPACING = (0.7, 0.7, 1.)\n",
    "COVID_PREPROCESSED_CASES_PATH = \"Datasets/preprocessed/images/\"\n",
    "INFECTION_PREPROCESSED_MASKS_PATH = \"Datasets/preprocessed/labels/\"\n",
    "\n",
    "def get_hrct_transforms():\n",
    "    return monai.transforms.Compose(\n",
    "        [\n",
    "            monai.transforms.LoadImaged(keys=('img', 'mask'), image_only=True, ensure_channel_first=True),\n",
    "            monai.transforms.Orientationd(keys=('img', 'mask'), axcodes=\"PLI\"),\n",
    "            # monai.transforms.Spacingd(keys=('img', 'mask'), pixdim=SPACING, mode=(\"bilinear\", \"nearest\")),\n",
    "            monai.transforms.ThresholdIntensityd(keys=(\"img\",), threshold=LOWER_BOUND_WINDOW_HRCT, above=True, cval=LOWER_BOUND_WINDOW_HRCT),\n",
    "            monai.transforms.ThresholdIntensityd(keys=(\"img\",), threshold=UPPER_BOUND_WINDOW_HRCT, above=False, cval=UPPER_BOUND_WINDOW_HRCT),\n",
    "            monai.transforms.ScaleIntensityd(keys='img', minv=0.0, maxv=1.0),\n",
    "            monai.transforms.RandCropByPosNegLabeld(keys=('img', 'mask'), label_key=\"mask\",\n",
    "                                                    spatial_size=SPATIAL_SIZE, pos=1, neg=1,\n",
    "                                                    num_samples=NUM_RAND_PATCHES, allow_smaller=True),\n",
    "            monai.transforms.SpatialPadd(keys=('img', 'mask'), spatial_size=SPATIAL_SIZE, method='symmetric'),\n",
    "\n",
    "            monai.transforms.RandFlipd(keys=('img', 'mask'), prob=0.2, spatial_axis=0),\n",
    "            monai.transforms.RandFlipd(keys=('img', 'mask'), prob=0.2, spatial_axis=1),\n",
    "            monai.transforms.RandFlipd(keys=('img', 'mask'), prob=0.2, spatial_axis=2),\n",
    "            monai.transforms.RandZoomd(keys=('img', 'mask'), prob=0.4, min_zoom=0.9, max_zoom=1.1),\n",
    "\n",
    "            monai.transforms.ToTensord(keys=(\"img\", \"mask\")),\n",
    "        ]\n",
    "    )\n",
    "\n",
    "\n",
    "def get_cbct_transforms():\n",
    "    return monai.transforms.Compose(\n",
    "        [\n",
    "            monai.transforms.LoadImaged(keys=('img', 'mask'), image_only=True, ensure_channel_first=True),\n",
    "            monai.transforms.Orientationd(keys=('img', 'mask'), axcodes=\"ALI\"),\n",
    "            # monai.transforms.Spacingd(keys=('img', 'mask'), pixdim=SPACING, mode=(\"bilinear\", \"nearest\")),\n",
    "            monai.transforms.ScaleIntensityd(keys='img', minv=0.0, maxv=1.0),\n",
    "            monai.transforms.RandCropByPosNegLabeld(keys=('img', 'mask'), label_key=\"mask\",\n",
    "                                                    spatial_size=SPATIAL_SIZE, pos=1, neg=1,\n",
    "                                                    num_samples=NUM_RAND_PATCHES, allow_smaller=True),\n",
    "            monai.transforms.SpatialPadd(keys=('img', 'mask'), spatial_size=SPATIAL_SIZE, method='symmetric'),\n",
    "\n",
    "            monai.transforms.RandFlipd(keys=('img', 'mask'), prob=0.2, spatial_axis=0),\n",
    "            monai.transforms.RandFlipd(keys=('img', 'mask'), prob=0.2, spatial_axis=1),\n",
    "            monai.transforms.RandFlipd(keys=('img', 'mask'), prob=0.2, spatial_axis=2),\n",
    "            monai.transforms.RandZoomd(keys=('img', 'mask'), prob=0.4, min_zoom=0.9, max_zoom=1.1),\n",
    "\n",
    "            monai.transforms.ToTensord(keys=(\"img\", \"mask\")),\n",
    "        ]\n",
    "    )\n",
    "\n",
    "\n",
    "def get_val_hrct_transforms():\n",
    "    return monai.transforms.Compose(\n",
    "        [\n",
    "            monai.transforms.LoadImaged(keys=('img', 'mask'), image_only=True, ensure_channel_first=True),\n",
    "            monai.transforms.Orientationd(keys=('img', 'mask'), axcodes=\"PLI\"),\n",
    "            # monai.transforms.Spacingd(keys=('img', 'mask'), pixdim=SPACING, mode=(\"bilinear\", \"nearest\")),\n",
    "            monai.transforms.ThresholdIntensityd(keys=(\"img\",), threshold=LOWER_BOUND_WINDOW_HRCT, above=True, cval=LOWER_BOUND_WINDOW_HRCT),\n",
    "            monai.transforms.ThresholdIntensityd(keys=(\"img\",), threshold=UPPER_BOUND_WINDOW_HRCT, above=False, cval=UPPER_BOUND_WINDOW_HRCT),\n",
    "            monai.transforms.ScaleIntensityd(keys='img', minv=0.0, maxv=1.0),\n",
    "            monai.transforms.ToTensord(keys=(\"img\", \"mask\")),\n",
    "        ]\n",
    "    )\n",
    "\n",
    "\n",
    "def get_val_cbct_transforms():\n",
    "    return monai.transforms.Compose(\n",
    "        [\n",
    "            monai.transforms.LoadImaged(keys=('img', 'mask'), image_only=True, ensure_channel_first=True),\n",
    "            monai.transforms.Orientationd(keys=('img', 'mask'), axcodes=\"ALI\"),\n",
    "            # monai.transforms.Spacingd(keys=('img', 'mask'), pixdim=SPACING, mode=(\"bilinear\", \"nearest\")),\n",
    "            monai.transforms.ScaleIntensityd(keys='img', minv=0.0, maxv=1.0),\n",
    "            monai.transforms.ToTensord(keys=(\"img\", \"mask\")),\n",
    "        ]\n",
    "    )\n",
    "\n",
    "def load_radiopaedia_from_path(path: str) -> list[str]:\n",
    "    logging.debug(f\"Loading images from {path}\")\n",
    "    return sorted([str(f) for f in Path(path).iterdir() if f.suffix == '.gz' and f.is_file() and 'radiopaedia' in f.stem])\n",
    "\n",
    "# Load images and masks\n",
    "logging.info(f\"Loading images from {COVID_PREPROCESSED_CASES_PATH}\")\n",
    "images = load_radiopaedia_from_path(\"../\" + COVID_PREPROCESSED_CASES_PATH)\n",
    "labels = load_radiopaedia_from_path(\"../\" + INFECTION_PREPROCESSED_MASKS_PATH)\n",
    "\n",
    "\n",
    "# Convert images and masks to a list of dictionaries with keys \"img\" and \"mask\"\n",
    "data_dicts = np.array([{\"img\": img, \"mask\": mask} for img, mask in zip(images, labels)])\n",
    "logging.debug(data_dicts)\n",
    "\n",
    "shuffler = np.random.RandomState(SEED)\n",
    "shuffler.shuffle(data_dicts)\n",
    "data_dicts = list(data_dicts)\n",
    "\n",
    "# Split the data into training (70%), validation (10%), and test sets (20%)\n",
    "test_split = int(len(data_dicts) * 0.1)\n",
    "val_split = int(len(data_dicts) * 0.2)\n",
    "\n",
    "train_paths = data_dicts[test_split + val_split:]\n",
    "val_paths = data_dicts[test_split:test_split + val_split]\n",
    "test_paths = data_dicts[:test_split]"
   ],
   "id": "689bc2b6d392de5c",
   "outputs": [],
   "execution_count": 57
  },
  {
   "metadata": {
    "ExecuteTime": {
     "end_time": "2024-07-11T17:25:28.917978Z",
     "start_time": "2024-07-11T17:25:28.908147Z"
    }
   },
   "cell_type": "code",
   "source": [
    "# Create a radiopaedia dataset\n",
    "radiopaedia_dataset = CovidDataset(volumes=data_dicts, hrct_transform=get_val_hrct_transforms(), cbct_transform=get_val_cbct_transforms())\n",
    "radiopaedia_loader = DataLoader(radiopaedia_dataset, batch_size=1, num_workers=2)\n",
    "\n",
    "# Create a dataset and a dataloader for the training set\n",
    "train_dataset = CovidDataset(volumes=train_paths, hrct_transform=get_hrct_transforms(), cbct_transform=get_cbct_transforms())\n",
    "train_loader = DataLoader(train_dataset, batch_size=1, num_workers=2)\n",
    "\n",
    "# Create a dataset and a dataloader for the validation set\n",
    "val_dataset = CovidDataset(volumes=val_paths, hrct_transform=get_val_hrct_transforms(), cbct_transform=get_val_cbct_transforms())\n",
    "val_loader = DataLoader(val_dataset, batch_size=1, num_workers=2)\n",
    "\n",
    "# Create a dataset and a dataloader for the test set\n",
    "test_dataset = CovidDataset(volumes=test_paths, hrct_transform=get_val_hrct_transforms(), cbct_transform=get_val_cbct_transforms())\n",
    "test_loader = DataLoader(test_dataset, batch_size=1, num_workers=2)"
   ],
   "id": "af91f7bbe75b637d",
   "outputs": [],
   "execution_count": 58
  },
  {
   "metadata": {},
   "cell_type": "markdown",
   "source": "# SHOW DATASET",
   "id": "2817033b89bc2b56"
  },
  {
   "metadata": {
    "ExecuteTime": {
     "end_time": "2024-07-11T17:25:30.451146Z",
     "start_time": "2024-07-11T17:25:30.433377Z"
    }
   },
   "cell_type": "code",
   "source": [
    "def show_train_post_transforms_with_mask(dataloader, dataset):\n",
    "     root = \"images/train_post_transforms_with_mask\"\n",
    "     for i, data in enumerate(dataloader):\n",
    "        volume = dataset.volumes[i]['img'].split('/')[-1].split('.')[0]\n",
    "        Path(f\"{root}/{volume}\").mkdir(parents=True, exist_ok=True)\n",
    "        print(f\"Processing volume {i+1}: {volume}\")\n",
    "        for j in range(data[\"img\"].shape[0]):\n",
    "            print(f\"Processing subvolume {j+1}\")\n",
    "            \n",
    "            img = data[\"img\"][j]\n",
    "            seg = data[\"mask\"][j]\n",
    "            blended_img = blend_images(img, seg, alpha=0.5, cmap=\"hsv\", rescale_arrays=True)\n",
    "            blended_img = (blended_img - blended_img.min()) / (blended_img.max() - blended_img.min())\n",
    "            print(f\"blended_img.shape: {blended_img.shape}, last dim: {blended_img.shape[-1]}\")\n",
    "            fig = plt.figure(figsize=(16,16))\n",
    "            plt.title(f\"subvolume{j+1}\")\n",
    "            for k in range(blended_img.shape[-1]):\n",
    "                ax = fig.add_subplot(25, 25, k+1)\n",
    "                ax.imshow(torch.moveaxis(blended_img[:, :, :, k], 0, -1))\n",
    "                ax.axis('off')\n",
    "            plt.savefig(f\"{root}/{volume}/{j+1}.png\")\n",
    "            plt.close()\n",
    "             \n",
    "def show_validation_post_transforms_no_mask(dataloader, dataset):\n",
    "     root = \"images/validation_post_transforms_no_mask\"\n",
    "     for i, data in enumerate(dataloader):\n",
    "        volume = dataset.volumes[i]['img'].split('/')[-1].split('.')[0]\n",
    "        Path(f\"{root}/{volume}\").mkdir(parents=True, exist_ok=True)\n",
    "        print(f\"Processing volume {i}: {volume}\")\n",
    "        fig = plt.figure()\n",
    "        matshow3d(\n",
    "            data[\"img\"][0][0],\n",
    "            fig=fig,\n",
    "            figsize=(20, 20),\n",
    "            frame_dim=-1,\n",
    "            cmap=\"gray\"\n",
    "        )\n",
    "        plt.savefig(f\"{root}/{volume}/{volume}.png\")\n",
    "        plt.close()\n",
    "        \n",
    "def show_validation_post_transforms_with_mask(dataloader, dataset):\n",
    "     root = \"images/validation_post_transforms_with_mask\"\n",
    "     for i, data in enumerate(dataloader):\n",
    "        volume = dataset.volumes[i]['img'].split('/')[-1].split('.')[0]\n",
    "        Path(f\"{root}/{volume}\").mkdir(parents=True, exist_ok=True)\n",
    "        print(f\"Processing volume {i}: {volume}\")        \n",
    "        img = data[\"img\"]\n",
    "        seg = data[\"mask\"]\n",
    "        blended_img = blend_images(img, seg, alpha=0.5, cmap=\"hsv\", rescale_arrays=True)\n",
    "        blended_img = (blended_img - blended_img.min()) / (blended_img.max() - blended_img.min())\n",
    "        fig = plt.figure(figsize=(22,22))\n",
    "        print(f\"blended_img.shape: {blended_img.shape}, last dim: {blended_img.shape[-1]}\")\n",
    "        for k in range(blended_img.shape[-1]):\n",
    "            ax = fig.add_subplot(22, 22, k+1)\n",
    "            ax.imshow(torch.moveaxis(blended_img[:, 0, :, :, k], 0, -1))\n",
    "            ax.axis('off')\n",
    "        plt.savefig(f\"{root}/{volume}/{volume}.png\")\n",
    "        plt.close()\n",
    "    "
   ],
   "id": "984bcdd8e278c780",
   "outputs": [],
   "execution_count": 59
  },
  {
   "metadata": {
    "ExecuteTime": {
     "end_time": "2024-07-11T17:27:24.107338Z",
     "start_time": "2024-07-11T17:25:32.251526Z"
    }
   },
   "cell_type": "code",
   "source": [
    "# Show validation volumes\n",
    "show_validation_post_transforms_with_mask(radiopaedia_loader, radiopaedia_dataset)"
   ],
   "id": "7a1b64ddb30050f0",
   "outputs": [
    {
     "name": "stdout",
     "output_type": "stream",
     "text": [
      "Processing volume 0: radiopaedia_4_85506_1\n",
      "blended_img.shape: torch.Size([3, 1, 479, 479, 254]), last dim: 254\n",
      "Processing volume 1: radiopaedia_27_86410_0\n",
      "blended_img.shape: torch.Size([3, 1, 479, 479, 434]), last dim: 434\n",
      "Processing volume 2: radiopaedia_29_86491_1\n",
      "blended_img.shape: torch.Size([3, 1, 479, 479, 274]), last dim: 274\n",
      "Processing volume 3: radiopaedia_7_85703_0\n",
      "blended_img.shape: torch.Size([3, 1, 479, 479, 294]), last dim: 294\n",
      "Processing volume 4: radiopaedia_10_85902_3\n",
      "blended_img.shape: torch.Size([3, 1, 479, 479, 464]), last dim: 464\n",
      "Processing volume 5: radiopaedia_36_86526_0\n",
      "blended_img.shape: torch.Size([3, 1, 479, 479, 294]), last dim: 294\n",
      "Processing volume 6: radiopaedia_14_85914_0\n",
      "blended_img.shape: torch.Size([3, 1, 305, 479, 243]), last dim: 243\n",
      "Processing volume 7: radiopaedia_10_85902_1\n",
      "blended_img.shape: torch.Size([3, 1, 479, 479, 254]), last dim: 254\n",
      "Processing volume 8: radiopaedia_40_86625_0\n",
      "blended_img.shape: torch.Size([3, 1, 479, 479, 410]), last dim: 410\n",
      "Processing volume 9: radiopaedia_29_86490_1\n",
      "blended_img.shape: torch.Size([3, 1, 479, 479, 274]), last dim: 274\n"
     ]
    }
   ],
   "execution_count": 60
  },
  {
   "metadata": {
    "ExecuteTime": {
     "end_time": "2024-07-11T16:18:32.859892Z",
     "start_time": "2024-07-11T16:17:14.694749Z"
    }
   },
   "cell_type": "code",
   "source": [
    "for i, data in enumerate(radiopaedia_loader):\n",
    "    print(data[\"img\"].shape)"
   ],
   "id": "f577b0ec169ae245",
   "outputs": [
    {
     "name": "stdout",
     "output_type": "stream",
     "text": [
      "torch.Size([1, 1, 500, 500, 256])\n",
      "torch.Size([1, 1, 500, 500, 270])\n",
      "torch.Size([1, 1, 556, 556, 319])\n",
      "torch.Size([1, 1, 500, 500, 301])\n",
      "torch.Size([1, 1, 500, 500, 300])\n",
      "torch.Size([1, 1, 521, 521, 249])\n",
      "torch.Size([1, 1, 539, 539, 300])\n",
      "torch.Size([1, 1, 593, 593, 301])\n",
      "torch.Size([1, 1, 530, 530, 301])\n",
      "torch.Size([1, 1, 500, 500, 290])\n"
     ]
    }
   ],
   "execution_count": 39
  },
  {
   "metadata": {
    "ExecuteTime": {
     "end_time": "2024-06-25T10:21:56.360663Z",
     "start_time": "2024-06-25T10:21:56.322629Z"
    }
   },
   "cell_type": "code",
   "source": [
    "# Now we are going to visualize the pictures raw, for that we will create a data loader with raw transformations\n",
    "def get_raw_transforms():\n",
    "    return monai.transforms.Compose(\n",
    "        [\n",
    "            monai.transforms.LoadImaged(keys=('img', 'mask'), image_only=True, ensure_channel_first=True),\n",
    "            monai.transforms.Orientationd(keys=('img', 'mask'), axcodes=\"PLI\"),\n",
    "            monai.transforms.ToTensord(keys=(\"img\", \"mask\")),\n",
    "        ]\n",
    "    )\n",
    "\n",
    "raw_val_dataset = CovidDataset(volumes=val_paths, hrct_transform=get_raw_transforms(), cbct_transform=get_raw_transforms())\n",
    "raw_val_loader = DataLoader(raw_val_dataset, batch_size=1, num_workers=2)\n",
    "\n",
    "raw_train_dataset = CovidDataset(volumes=train_paths, hrct_transform=get_raw_transforms(), cbct_transform=get_raw_transforms())\n",
    "raw_train_loader = DataLoader(raw_train_dataset, batch_size=1, num_workers=2)"
   ],
   "id": "b7a569aa9883a287",
   "outputs": [],
   "execution_count": 8
  },
  {
   "metadata": {
    "ExecuteTime": {
     "end_time": "2024-06-25T10:26:04.636980Z",
     "start_time": "2024-06-25T10:26:04.629850Z"
    }
   },
   "cell_type": "code",
   "source": [
    "def show_raw_with_mask(dataloader, dataset):\n",
    "     root = \"images/raw_with_mask\"\n",
    "     for i, data in enumerate(dataloader):\n",
    "        volume = dataset.volumes[i]['img'].split('/')[-1].split('.')[0]\n",
    "        Path(f\"{root}/{volume}\").mkdir(parents=True, exist_ok=True)\n",
    "        print(f\"Processing volume {i+1}: {volume}\")\n",
    "        for j in range(data[\"img\"].shape[0]):\n",
    "            print(f\"Processing subvolume {j+1}\")\n",
    "            \n",
    "            img = data[\"img\"][j]\n",
    "            seg = data[\"mask\"][j]\n",
    "            blended_img = blend_images(img, seg, alpha=0.5, cmap=\"hsv\", rescale_arrays=True)\n",
    "            blended_img = (blended_img - blended_img.min()) / (blended_img.max() - blended_img.min())\n",
    "            fig = plt.figure(figsize=(8,8))\n",
    "            plt.title(f\"subvolume{j+1}\")\n",
    "            for k in range(blended_img.shape[-1]):\n",
    "                ax = fig.add_subplot(16, 16, k+1)\n",
    "                ax.imshow(torch.moveaxis(blended_img[:, :, :, k], 0, -1))\n",
    "                ax.axis('off')\n",
    "            plt.savefig(f\"{root}/{volume}/{j+1}.png\")\n",
    "            plt.close()"
   ],
   "id": "7d05cffa358345a4",
   "outputs": [],
   "execution_count": 12
  },
  {
   "metadata": {},
   "cell_type": "code",
   "outputs": [],
   "execution_count": null,
   "source": "show_raw_with_mask(raw_train_loader, raw_train_dataset)",
   "id": "3cc8b5d22f2eda07"
  },
  {
   "metadata": {
    "ExecuteTime": {
     "end_time": "2024-07-04T17:29:45.373417Z",
     "start_time": "2024-07-04T17:29:45.369764Z"
    }
   },
   "cell_type": "code",
   "source": "",
   "id": "453396717553219f",
   "outputs": [
    {
     "data": {
      "text/plain": [
       "[PosixPath('../Datasets/Zenodo/COVID-19-CT-Seg_20cases/radiopaedia_27_86410_0.nii.gz'),\n",
       " PosixPath('../Datasets/Zenodo/COVID-19-CT-Seg_20cases/radiopaedia_29_86491_1.nii.gz'),\n",
       " PosixPath('../Datasets/Zenodo/COVID-19-CT-Seg_20cases/radiopaedia_14_85914_0.nii.gz'),\n",
       " PosixPath('../Datasets/Zenodo/COVID-19-CT-Seg_20cases/radiopaedia_10_85902_3.nii.gz'),\n",
       " PosixPath('../Datasets/Zenodo/COVID-19-CT-Seg_20cases/radiopaedia_4_85506_1.nii.gz'),\n",
       " PosixPath('../Datasets/Zenodo/COVID-19-CT-Seg_20cases/radiopaedia_36_86526_0.nii.gz'),\n",
       " PosixPath('../Datasets/Zenodo/COVID-19-CT-Seg_20cases/radiopaedia_40_86625_0.nii.gz'),\n",
       " PosixPath('../Datasets/Zenodo/COVID-19-CT-Seg_20cases/radiopaedia_10_85902_1.nii.gz'),\n",
       " PosixPath('../Datasets/Zenodo/COVID-19-CT-Seg_20cases/radiopaedia_7_85703_0.nii.gz'),\n",
       " PosixPath('../Datasets/Zenodo/COVID-19-CT-Seg_20cases/radiopaedia_29_86490_1.nii.gz')]"
      ]
     },
     "execution_count": 39,
     "metadata": {},
     "output_type": "execute_result"
    }
   ],
   "execution_count": 39
  },
  {
   "metadata": {},
   "cell_type": "code",
   "outputs": [],
   "execution_count": null,
   "source": "",
   "id": "33256965163e5c5e"
  }
 ],
 "metadata": {
  "kernelspec": {
   "display_name": "Python 3",
   "language": "python",
   "name": "python3"
  },
  "language_info": {
   "codemirror_mode": {
    "name": "ipython",
    "version": 2
   },
   "file_extension": ".py",
   "mimetype": "text/x-python",
   "name": "python",
   "nbconvert_exporter": "python",
   "pygments_lexer": "ipython2",
   "version": "2.7.6"
  }
 },
 "nbformat": 4,
 "nbformat_minor": 5
}
