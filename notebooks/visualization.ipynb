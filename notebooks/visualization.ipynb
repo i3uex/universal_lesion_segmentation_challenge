{
 "cells": [
  {
   "cell_type": "code",
   "id": "initial_id",
   "metadata": {
    "collapsed": true,
    "ExecuteTime": {
     "end_time": "2024-06-25T10:16:23.628682Z",
     "start_time": "2024-06-25T10:16:10.730353Z"
    }
   },
   "source": [
    "import logging\n",
    "from preprocessing.covid_dataset import CovidDataset\n",
    "from monai.data import DataLoader\n",
    "import monai\n",
    "from config.constants import (COVID_CASES_PATH, INFECTION_MASKS_PATH, SEED)\n",
    "import torch\n",
    "import numpy as np\n",
    "import matplotlib.pyplot as plt\n",
    "from monai.visualize import plot_2d_or_3d_image, matshow3d, blend_images\n",
    "from pathlib import Path\n",
    "from utils.helpers import load_images_from_path"
   ],
   "outputs": [
    {
     "name": "stderr",
     "output_type": "stream",
     "text": [
      "2024-06-25 12:16:18.826718: I tensorflow/core/util/port.cc:113] oneDNN custom operations are on. You may see slightly different numerical results due to floating-point round-off errors from different computation orders. To turn them off, set the environment variable `TF_ENABLE_ONEDNN_OPTS=0`.\n",
      "2024-06-25 12:16:19.158634: I tensorflow/core/platform/cpu_feature_guard.cc:210] This TensorFlow binary is optimized to use available CPU instructions in performance-critical operations.\n",
      "To enable the following instructions: AVX2 AVX512F AVX512_VNNI FMA, in other operations, rebuild TensorFlow with the appropriate compiler flags.\n"
     ]
    }
   ],
   "execution_count": 1
  },
  {
   "metadata": {
    "ExecuteTime": {
     "end_time": "2024-06-25T10:16:23.646983Z",
     "start_time": "2024-06-25T10:16:23.631117Z"
    }
   },
   "cell_type": "code",
   "source": [
    "SPATIAL_SIZE = (32, 32, 32)\n",
    "NUM_RAND_PATCHES = 4\n",
    "LEVEL = -650\n",
    "WIDTH = 1500\n",
    "LOWER_BOUND_WINDOW_HRCT = LEVEL - (WIDTH // 2) \n",
    "UPPER_BOUND_WINDOW_HRCT = LEVEL + (WIDTH // 2)\n",
    "LOWER_BOUND_WINDOW_CBCT = 0\n",
    "UPPER_BOUND_WINDOW_CBCT = 255\n",
    "\n",
    "\n",
    "def get_hrct_transforms():\n",
    "    return monai.transforms.Compose(\n",
    "        [\n",
    "            monai.transforms.LoadImaged(keys=('img', 'mask'), image_only=True, ensure_channel_first=True),\n",
    "            monai.transforms.Orientationd(keys=('img', 'mask'), axcodes=\"PLI\"),\n",
    "            monai.transforms.ScaleIntensityRanged(keys=('img',), a_min=LOWER_BOUND_WINDOW_HRCT,\n",
    "                                                  a_max=UPPER_BOUND_WINDOW_HRCT, b_min=0.0, b_max=1.0, clip=True),\n",
    "            monai.transforms.RandCropByPosNegLabeld(keys=('img', 'mask'), label_key=\"mask\",\n",
    "                                                    spatial_size=SPATIAL_SIZE, pos=1, neg=1,\n",
    "                                                    num_samples=NUM_RAND_PATCHES, allow_smaller=True),\n",
    "            \n",
    "            monai.transforms.ToTensord(keys=(\"img\", \"mask\")),\n",
    "        ]\n",
    "    )\n",
    "\n",
    "\n",
    "def get_cbct_transforms():\n",
    "    return monai.transforms.Compose(\n",
    "        [\n",
    "            monai.transforms.LoadImaged(keys=('img', 'mask'), image_only=True, ensure_channel_first=True),\n",
    "            monai.transforms.Orientationd(keys=('img', 'mask'), axcodes=\"ALI\"),\n",
    "            monai.transforms.RandCropByPosNegLabeld(keys=('img', 'mask'), label_key=\"mask\",\n",
    "                                                    spatial_size=SPATIAL_SIZE, pos=1, neg=1,\n",
    "                                                    num_samples=NUM_RAND_PATCHES, allow_smaller=True),\n",
    "            monai.transforms.ScaleIntensityd(keys='img', minv=LOWER_BOUND_WINDOW_CBCT, maxv=UPPER_BOUND_WINDOW_CBCT),\n",
    "            monai.transforms.ToTensord(keys=(\"img\", \"mask\")),\n",
    "        ]\n",
    "    )\n",
    "\n",
    "def get_val_hrct_transforms():\n",
    "    return monai.transforms.Compose(\n",
    "        [\n",
    "            monai.transforms.LoadImaged(keys=('img', 'mask'), image_only=True, ensure_channel_first=True),\n",
    "            monai.transforms.Orientationd(keys=('img', 'mask'), axcodes=\"PLI\"),\n",
    "            monai.transforms.ScaleIntensityRanged(keys=('img',), a_min=LOWER_BOUND_WINDOW_HRCT,\n",
    "                                                  a_max=UPPER_BOUND_WINDOW_HRCT, b_min=0.0, b_max=1.0,\n",
    "                                                  clip=True),\n",
    "            monai.transforms.ToTensord(keys=(\"img\", \"mask\")),\n",
    "        ]\n",
    "    )\n",
    "\n",
    "\n",
    "def get_val_cbct_transforms():\n",
    "    return monai.transforms.Compose(\n",
    "        [\n",
    "            monai.transforms.LoadImaged(keys=('img', 'mask'), image_only=True, ensure_channel_first=True),\n",
    "            monai.transforms.Orientationd(keys=('img', 'mask'), axcodes=\"ALI\"),\n",
    "            monai.transforms.ScaleIntensityd(keys='img', minv=LOWER_BOUND_WINDOW_CBCT, maxv=UPPER_BOUND_WINDOW_CBCT),\n",
    "            monai.transforms.ToTensord(keys=(\"img\", \"mask\")),\n",
    "        ]\n",
    "    )\n",
    "\n",
    "\n",
    "# Load images and masks\n",
    "logging.info(f\"Loading images from {COVID_CASES_PATH}\")\n",
    "images = load_images_from_path(\"../\" + COVID_CASES_PATH)\n",
    "labels = load_images_from_path(\"../\" + INFECTION_MASKS_PATH)\n",
    "\n",
    "# Convert images and masks to a list of dictionaries with keys \"img\" and \"mask\"\n",
    "data_dicts = np.array([{\"img\": img, \"mask\": mask} for img, mask in zip(images, labels)])\n",
    "logging.debug(data_dicts)\n",
    "\n",
    "shuffler = np.random.RandomState(1)\n",
    "shuffler.shuffle(data_dicts)\n",
    "data_dicts = list(data_dicts)\n",
    "\n",
    "# Split the data into training (70%), validation (10%), and test sets (20%)\n",
    "test_split = int(len(data_dicts) * 0.2)\n",
    "val_split = int(len(data_dicts) * 0.1)\n",
    "\n",
    "train_paths = data_dicts[test_split + val_split:]\n",
    "val_paths = data_dicts[test_split:test_split + val_split]\n",
    "test_paths = data_dicts[:test_split]"
   ],
   "id": "689bc2b6d392de5c",
   "outputs": [],
   "execution_count": 2
  },
  {
   "metadata": {
    "ExecuteTime": {
     "end_time": "2024-06-25T10:16:23.663356Z",
     "start_time": "2024-06-25T10:16:23.648031Z"
    }
   },
   "cell_type": "code",
   "source": [
    "# Create a dataset and a dataloader for the training set\n",
    "train_dataset = CovidDataset(volumes=train_paths, hrct_transform=get_hrct_transforms(), cbct_transform=get_cbct_transforms())\n",
    "train_loader = DataLoader(train_dataset, batch_size=1, num_workers=2)\n",
    "\n",
    "# Create a dataset and a dataloader for the validation set\n",
    "val_dataset = CovidDataset(volumes=val_paths, hrct_transform=get_val_hrct_transforms(), cbct_transform=get_val_cbct_transforms())\n",
    "val_loader = DataLoader(val_dataset, batch_size=1, num_workers=2)\n",
    "\n",
    "# Create a dataset and a dataloader for the test set\n",
    "test_dataset = CovidDataset(volumes=test_paths, hrct_transform=get_val_hrct_transforms(), cbct_transform=get_val_cbct_transforms())\n",
    "test_loader = DataLoader(test_dataset, batch_size=1, num_workers=2)"
   ],
   "id": "af91f7bbe75b637d",
   "outputs": [],
   "execution_count": 3
  },
  {
   "metadata": {},
   "cell_type": "markdown",
   "source": "# SHOW DATASET",
   "id": "2817033b89bc2b56"
  },
  {
   "metadata": {
    "ExecuteTime": {
     "end_time": "2024-06-25T10:23:09.464971Z",
     "start_time": "2024-06-25T10:23:09.454892Z"
    }
   },
   "cell_type": "code",
   "source": [
    "def show_train_post_transforms_with_mask(dataloader, dataset):\n",
    "     root = \"images/train_post_transforms_with_mask\"\n",
    "     for i, data in enumerate(dataloader):\n",
    "        volume = dataset.volumes[i]['img'].split('/')[-1].split('.')[0]\n",
    "        Path(f\"{root}/{volume}\").mkdir(parents=True, exist_ok=True)\n",
    "        print(f\"Processing volume {i+1}: {volume}\")\n",
    "        for j in range(data[\"img\"].shape[0]):\n",
    "            print(f\"Processing subvolume {j+1}\")\n",
    "            \n",
    "            img = data[\"img\"][j]\n",
    "            seg = data[\"mask\"][j]\n",
    "            blended_img = blend_images(img, seg, alpha=0.5, cmap=\"hsv\", rescale_arrays=True)\n",
    "            blended_img = (blended_img - blended_img.min()) / (blended_img.max() - blended_img.min())\n",
    "            fig = plt.figure(figsize=(8,8))\n",
    "            plt.title(f\"subvolume{j+1}\")\n",
    "            for k in range(blended_img.shape[-1]):\n",
    "                ax = fig.add_subplot(16, 16, k+1)\n",
    "                ax.imshow(torch.moveaxis(blended_img[:, :, :, k], 0, -1))\n",
    "                ax.axis('off')\n",
    "            plt.savefig(f\"{root}/{volume}/{j+1}.png\")\n",
    "            plt.close()\n",
    "             \n",
    "def show_validation_post_transforms_no_mask(dataloader, dataset):\n",
    "     root = \"images/validation_post_transforms_no_mask\"\n",
    "     for i, data in enumerate(dataloader):\n",
    "        volume = dataset.volumes[i]['img'].split('/')[-1].split('.')[0]\n",
    "        Path(f\"{root}/{volume}\").mkdir(parents=True, exist_ok=True)\n",
    "        print(f\"Processing volume {i}: {volume}\")\n",
    "        fig = plt.figure()\n",
    "        matshow3d(\n",
    "            data[\"img\"][0][0],\n",
    "            fig=fig,\n",
    "            figsize=(20, 20),\n",
    "            frame_dim=-1,\n",
    "            cmap=\"gray\"\n",
    "        )\n",
    "        plt.savefig(f\"{root}/{volume}/{volume}.png\")\n",
    "        plt.close()"
   ],
   "id": "984bcdd8e278c780",
   "outputs": [],
   "execution_count": 9
  },
  {
   "metadata": {
    "ExecuteTime": {
     "end_time": "2024-06-25T10:16:33.500779Z",
     "start_time": "2024-06-25T10:16:23.678611Z"
    }
   },
   "cell_type": "code",
   "source": [
    "# Show validation volumes\n",
    "show_validation_post_transforms_no_mask(val_loader, val_dataset)"
   ],
   "id": "7a1b64ddb30050f0",
   "outputs": [
    {
     "name": "stderr",
     "output_type": "stream",
     "text": [
      "os.fork() was called. os.fork() is incompatible with multithreaded code, and JAX is multithreaded, so this will likely lead to a deadlock.\n"
     ]
    },
    {
     "name": "stdout",
     "output_type": "stream",
     "text": [
      "Processing volume 0: coronacases_003\n",
      "Processing volume 1: radiopaedia_29_86490_1\n"
     ]
    },
    {
     "name": "stderr",
     "output_type": "stream",
     "text": [
      "os.fork() was called. os.fork() is incompatible with multithreaded code, and JAX is multithreaded, so this will likely lead to a deadlock.\n"
     ]
    }
   ],
   "execution_count": 5
  },
  {
   "metadata": {
    "ExecuteTime": {
     "end_time": "2024-06-25T10:24:17.480897Z",
     "start_time": "2024-06-25T10:23:39.249504Z"
    }
   },
   "cell_type": "code",
   "source": "show_train_post_transforms_with_mask(train_loader, train_dataset)",
   "id": "f577b0ec169ae245",
   "outputs": [
    {
     "name": "stdout",
     "output_type": "stream",
     "text": [
      "Processing volume 1: coronacases_005\n",
      "Processing subvolume 1\n",
      "Processing subvolume 2\n",
      "Processing subvolume 3\n",
      "Processing subvolume 4\n",
      "Processing volume 2: radiopaedia_40_86625_0\n",
      "Processing subvolume 1\n",
      "Processing subvolume 2\n",
      "Processing subvolume 3\n",
      "Processing subvolume 4\n",
      "Processing volume 3: coronacases_008\n",
      "Processing subvolume 1\n",
      "Processing subvolume 2\n",
      "Processing subvolume 3\n",
      "Processing subvolume 4\n",
      "Processing volume 4: coronacases_002\n",
      "Processing subvolume 1\n",
      "Processing subvolume 2\n",
      "Processing subvolume 3\n",
      "Processing subvolume 4\n",
      "Processing volume 5: radiopaedia_27_86410_0\n",
      "Processing subvolume 1\n",
      "Processing subvolume 2\n",
      "Processing subvolume 3\n",
      "Processing subvolume 4\n",
      "Processing volume 6: coronacases_001\n",
      "Processing subvolume 1\n",
      "Processing subvolume 2\n",
      "Processing subvolume 3\n",
      "Processing subvolume 4\n",
      "Processing volume 7: radiopaedia_7_85703_0\n",
      "Processing subvolume 1\n",
      "Processing subvolume 2\n",
      "Processing subvolume 3\n",
      "Processing subvolume 4\n"
     ]
    },
    {
     "name": "stderr",
     "output_type": "stream",
     "text": [
      "invalid value encountered in cast\n"
     ]
    },
    {
     "name": "stdout",
     "output_type": "stream",
     "text": [
      "Processing volume 8: radiopaedia_4_85506_1\n",
      "Processing subvolume 1\n",
      "Processing subvolume 2\n",
      "Processing subvolume 3\n",
      "Processing subvolume 4\n",
      "Processing volume 9: coronacases_010\n",
      "Processing subvolume 1\n",
      "Processing subvolume 2\n",
      "Processing subvolume 3\n",
      "Processing subvolume 4\n",
      "Processing volume 10: radiopaedia_29_86491_1\n",
      "Processing subvolume 1\n",
      "Processing subvolume 2\n",
      "Processing subvolume 3\n",
      "Processing subvolume 4\n",
      "Processing volume 11: coronacases_009\n",
      "Processing subvolume 1\n",
      "Processing subvolume 2\n",
      "Processing subvolume 3\n",
      "Processing subvolume 4\n",
      "Processing volume 12: radiopaedia_14_85914_0\n",
      "Processing subvolume 1\n",
      "Processing subvolume 2\n",
      "Processing subvolume 3\n",
      "Processing subvolume 4\n",
      "Processing volume 13: radiopaedia_10_85902_3\n",
      "Processing subvolume 1\n",
      "Processing subvolume 2\n",
      "Processing subvolume 3\n",
      "Processing subvolume 4\n",
      "Processing volume 14: coronacases_006\n",
      "Processing subvolume 1\n",
      "Processing subvolume 2\n",
      "Processing subvolume 3\n",
      "Processing subvolume 4\n"
     ]
    }
   ],
   "execution_count": 11
  },
  {
   "metadata": {
    "ExecuteTime": {
     "end_time": "2024-06-25T10:21:56.360663Z",
     "start_time": "2024-06-25T10:21:56.322629Z"
    }
   },
   "cell_type": "code",
   "source": [
    "# Now we are going to visualize the pictures raw, for that we will create a data loader with raw transformations\n",
    "def get_raw_transforms():\n",
    "    return monai.transforms.Compose(\n",
    "        [\n",
    "            monai.transforms.LoadImaged(keys=('img', 'mask'), image_only=True, ensure_channel_first=True),\n",
    "            monai.transforms.Orientationd(keys=('img', 'mask'), axcodes=\"PLI\"),\n",
    "            monai.transforms.ToTensord(keys=(\"img\", \"mask\")),\n",
    "        ]\n",
    "    )\n",
    "\n",
    "raw_val_dataset = CovidDataset(volumes=val_paths, hrct_transform=get_raw_transforms(), cbct_transform=get_raw_transforms())\n",
    "raw_val_loader = DataLoader(raw_val_dataset, batch_size=1, num_workers=2)\n",
    "\n",
    "raw_train_dataset = CovidDataset(volumes=train_paths, hrct_transform=get_raw_transforms(), cbct_transform=get_raw_transforms())\n",
    "raw_train_loader = DataLoader(raw_train_dataset, batch_size=1, num_workers=2)"
   ],
   "id": "b7a569aa9883a287",
   "outputs": [],
   "execution_count": 8
  },
  {
   "metadata": {
    "ExecuteTime": {
     "end_time": "2024-06-25T10:26:04.636980Z",
     "start_time": "2024-06-25T10:26:04.629850Z"
    }
   },
   "cell_type": "code",
   "source": [
    "def show_raw_with_mask(dataloader, dataset):\n",
    "     root = \"images/raw_with_mask\"\n",
    "     for i, data in enumerate(dataloader):\n",
    "        volume = dataset.volumes[i]['img'].split('/')[-1].split('.')[0]\n",
    "        Path(f\"{root}/{volume}\").mkdir(parents=True, exist_ok=True)\n",
    "        print(f\"Processing volume {i+1}: {volume}\")\n",
    "        for j in range(data[\"img\"].shape[0]):\n",
    "            print(f\"Processing subvolume {j+1}\")\n",
    "            \n",
    "            img = data[\"img\"][j]\n",
    "            seg = data[\"mask\"][j]\n",
    "            blended_img = blend_images(img, seg, alpha=0.5, cmap=\"hsv\", rescale_arrays=True)\n",
    "            blended_img = (blended_img - blended_img.min()) / (blended_img.max() - blended_img.min())\n",
    "            fig = plt.figure(figsize=(8,8))\n",
    "            plt.title(f\"subvolume{j+1}\")\n",
    "            for k in range(blended_img.shape[-1]):\n",
    "                ax = fig.add_subplot(16, 16, k+1)\n",
    "                ax.imshow(torch.moveaxis(blended_img[:, :, :, k], 0, -1))\n",
    "                ax.axis('off')\n",
    "            plt.savefig(f\"{root}/{volume}/{j+1}.png\")\n",
    "            plt.close()"
   ],
   "id": "7d05cffa358345a4",
   "outputs": [],
   "execution_count": 12
  },
  {
   "metadata": {},
   "cell_type": "code",
   "outputs": [],
   "execution_count": null,
   "source": "show_raw_with_mask(raw_train_loader, raw_train_dataset)",
   "id": "3cc8b5d22f2eda07"
  }
 ],
 "metadata": {
  "kernelspec": {
   "display_name": "Python 3",
   "language": "python",
   "name": "python3"
  },
  "language_info": {
   "codemirror_mode": {
    "name": "ipython",
    "version": 2
   },
   "file_extension": ".py",
   "mimetype": "text/x-python",
   "name": "python",
   "nbconvert_exporter": "python",
   "pygments_lexer": "ipython2",
   "version": "2.7.6"
  }
 },
 "nbformat": 4,
 "nbformat_minor": 5
}
