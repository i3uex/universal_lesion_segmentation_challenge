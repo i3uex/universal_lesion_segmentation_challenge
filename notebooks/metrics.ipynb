{
 "cells": [
  {
   "cell_type": "code",
   "id": "initial_id",
   "metadata": {
    "collapsed": true,
    "ExecuteTime": {
     "end_time": "2024-07-15T21:04:54.846927Z",
     "start_time": "2024-07-15T21:04:54.844194Z"
    }
   },
   "source": [
    "# we are going to try how monai metrics work. In this case we are going to try Dice metric and dice loss function and see what they return\n",
    "from monai.losses import DiceLoss\n",
    "from monai.metrics import DiceMetric\n",
    "import torch\n",
    "import torch\n",
    "import monai\n"
   ],
   "outputs": [],
   "execution_count": 7
  },
  {
   "metadata": {
    "ExecuteTime": {
     "end_time": "2024-07-15T21:04:55.216907Z",
     "start_time": "2024-07-15T21:04:55.213584Z"
    }
   },
   "cell_type": "code",
   "source": [
    "# create a loss function\n",
    "dice_loss = DiceLoss(sigmoid=False, softmax=False, include_background=True)\n",
    "\n",
    "# create a metric function\n",
    "dice_metric = DiceMetric(include_background=True, reduction=\"mean\", ignore_empty=True\n",
    "                         , get_not_nans=False)"
   ],
   "id": "66d696f976f92d55",
   "outputs": [],
   "execution_count": 8
  },
  {
   "metadata": {
    "ExecuteTime": {
     "end_time": "2024-07-15T21:07:44.134512Z",
     "start_time": "2024-07-15T21:07:44.130417Z"
    }
   },
   "cell_type": "code",
   "source": [
    "# create a fake prediction and ground truth\n",
    "A = torch.zeros((2, 1, 96, 96, 96))\n",
    "B = torch.zeros((2, 1, 96, 96, 96))\n",
    "\n",
    "A[0, 0, 10:20, 10:20, 10:20] = 1\n",
    "A[1, 0, 30:40, 30:40, 30:40] = 1 # Segmentado por modelo\n",
    "B[0, 0, 10:20, 10:20, 10:20] = 1"
   ],
   "id": "181b83266eaedd82",
   "outputs": [],
   "execution_count": 30
  },
  {
   "metadata": {
    "ExecuteTime": {
     "end_time": "2024-07-15T21:04:55.824526Z",
     "start_time": "2024-07-15T21:04:55.811574Z"
    }
   },
   "cell_type": "code",
   "source": [
    "# Now calculate the metric\n",
    "dice_metric(A, B)"
   ],
   "id": "5f3663806c8521ae",
   "outputs": [
    {
     "data": {
      "text/plain": [
       "tensor([[1.],\n",
       "        [nan]])"
      ]
     },
     "execution_count": 10,
     "metadata": {},
     "output_type": "execute_result"
    }
   ],
   "execution_count": 10
  },
  {
   "metadata": {
    "ExecuteTime": {
     "end_time": "2024-07-15T21:04:56.503578Z",
     "start_time": "2024-07-15T21:04:56.498769Z"
    }
   },
   "cell_type": "code",
   "source": "dice_metric.aggregate()",
   "id": "bfc7dc3297843c39",
   "outputs": [
    {
     "data": {
      "text/plain": [
       "tensor([1.])"
      ]
     },
     "execution_count": 11,
     "metadata": {},
     "output_type": "execute_result"
    }
   ],
   "execution_count": 11
  },
  {
   "metadata": {
    "ExecuteTime": {
     "end_time": "2024-07-15T21:04:56.910381Z",
     "start_time": "2024-07-15T21:04:56.907668Z"
    }
   },
   "cell_type": "code",
   "source": "dice_metric.reset()",
   "id": "a68077d37b3f100c",
   "outputs": [],
   "execution_count": 12
  },
  {
   "metadata": {
    "ExecuteTime": {
     "end_time": "2024-07-15T21:16:02.628122Z",
     "start_time": "2024-07-15T21:16:02.610517Z"
    }
   },
   "cell_type": "code",
   "source": [
    "surface_dice_scores =monai.metrics.compute_surface_dice(\n",
    "        y_pred=A,\n",
    "        y=B,\n",
    "        class_thresholds=[1.0],\n",
    "        include_background=True,\n",
    "        distance_metric='euclidean'\n",
    "    )\n",
    "mean_surface_dice_scores = torch.mean(surface_dice_scores)\n",
    "\n",
    "print(mean_surface_dice_scores)\n"
   ],
   "id": "4108be3fdb40ed40",
   "outputs": [
    {
     "name": "stdout",
     "output_type": "stream",
     "text": [
      "tensor(0.5000)\n"
     ]
    }
   ],
   "execution_count": 48
  },
  {
   "metadata": {
    "ExecuteTime": {
     "end_time": "2024-07-15T21:07:59.767215Z",
     "start_time": "2024-07-15T21:07:59.764075Z"
    }
   },
   "cell_type": "code",
   "source": "A.squeeze(0).shape",
   "id": "bccc1e93ce9365f9",
   "outputs": [
    {
     "data": {
      "text/plain": [
       "torch.Size([2, 1, 96, 96, 96])"
      ]
     },
     "execution_count": 32,
     "metadata": {},
     "output_type": "execute_result"
    }
   ],
   "execution_count": 32
  }
 ],
 "metadata": {
  "kernelspec": {
   "display_name": "Python 3",
   "language": "python",
   "name": "python3"
  },
  "language_info": {
   "codemirror_mode": {
    "name": "ipython",
    "version": 2
   },
   "file_extension": ".py",
   "mimetype": "text/x-python",
   "name": "python",
   "nbconvert_exporter": "python",
   "pygments_lexer": "ipython2",
   "version": "2.7.6"
  }
 },
 "nbformat": 4,
 "nbformat_minor": 5
}
