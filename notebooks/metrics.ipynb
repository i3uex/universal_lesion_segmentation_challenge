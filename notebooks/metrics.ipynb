{
 "cells": [
  {
   "cell_type": "code",
   "id": "initial_id",
   "metadata": {
    "collapsed": true,
    "ExecuteTime": {
     "end_time": "2024-07-04T16:22:34.882779Z",
     "start_time": "2024-07-04T16:22:34.879821Z"
    }
   },
   "source": [
    "# we are going to try how monai metrics work. In this case we are going to try Dice metric and dice loss function and see what they return\n",
    "from monai.losses import DiceLoss\n",
    "from monai.metrics import DiceMetric\n",
    "import torch\n",
    "import torch"
   ],
   "outputs": [],
   "execution_count": 3
  },
  {
   "metadata": {
    "ExecuteTime": {
     "end_time": "2024-07-04T16:54:56.086351Z",
     "start_time": "2024-07-04T16:54:56.083061Z"
    }
   },
   "cell_type": "code",
   "source": [
    "# create a loss function\n",
    "dice_loss = DiceLoss(sigmoid=False, softmax=False, include_background=True)\n",
    "\n",
    "# create a metric function\n",
    "dice_metric = DiceMetric(include_background=True, reduction=\"mean\", ignore_empty=True\n",
    "                         , get_not_nans=False)"
   ],
   "id": "66d696f976f92d55",
   "outputs": [],
   "execution_count": 152
  },
  {
   "metadata": {
    "ExecuteTime": {
     "end_time": "2024-07-04T16:54:57.800773Z",
     "start_time": "2024-07-04T16:54:57.796501Z"
    }
   },
   "cell_type": "code",
   "source": [
    "# create a fake prediction and ground truth\n",
    "A = torch.zeros((2, 1, 96, 96, 96))\n",
    "B = torch.zeros((2, 1, 96, 96, 96))\n",
    "\n",
    "A[0, 0, 10:20, 10:20, 10:20] = 1\n",
    "A[1, 0, 30:40, 30:40, 30:40] = 1 # Segmentado por modelo\n",
    "B[0, 0, 10:20, 10:20, 10:20] = 1"
   ],
   "id": "181b83266eaedd82",
   "outputs": [],
   "execution_count": 153
  },
  {
   "metadata": {
    "ExecuteTime": {
     "end_time": "2024-07-04T16:55:00.779358Z",
     "start_time": "2024-07-04T16:55:00.771685Z"
    }
   },
   "cell_type": "code",
   "source": [
    "# Now calculate the metric\n",
    "dice_metric(A, B)"
   ],
   "id": "5f3663806c8521ae",
   "outputs": [
    {
     "data": {
      "text/plain": [
       "tensor([[1.],\n",
       "        [nan]])"
      ]
     },
     "execution_count": 154,
     "metadata": {},
     "output_type": "execute_result"
    }
   ],
   "execution_count": 154
  },
  {
   "metadata": {
    "ExecuteTime": {
     "end_time": "2024-07-04T16:55:02.973905Z",
     "start_time": "2024-07-04T16:55:02.969579Z"
    }
   },
   "cell_type": "code",
   "source": "dice_metric.aggregate()",
   "id": "bfc7dc3297843c39",
   "outputs": [
    {
     "data": {
      "text/plain": [
       "tensor([1.])"
      ]
     },
     "execution_count": 155,
     "metadata": {},
     "output_type": "execute_result"
    }
   ],
   "execution_count": 155
  },
  {
   "metadata": {
    "ExecuteTime": {
     "end_time": "2024-07-04T16:51:55.105944Z",
     "start_time": "2024-07-04T16:51:55.103490Z"
    }
   },
   "cell_type": "code",
   "source": "dice_metric.reset()",
   "id": "a68077d37b3f100c",
   "outputs": [],
   "execution_count": 137
  },
  {
   "metadata": {},
   "cell_type": "code",
   "outputs": [],
   "execution_count": null,
   "source": "",
   "id": "4108be3fdb40ed40"
  }
 ],
 "metadata": {
  "kernelspec": {
   "display_name": "Python 3",
   "language": "python",
   "name": "python3"
  },
  "language_info": {
   "codemirror_mode": {
    "name": "ipython",
    "version": 2
   },
   "file_extension": ".py",
   "mimetype": "text/x-python",
   "name": "python",
   "nbconvert_exporter": "python",
   "pygments_lexer": "ipython2",
   "version": "2.7.6"
  }
 },
 "nbformat": 4,
 "nbformat_minor": 5
}
