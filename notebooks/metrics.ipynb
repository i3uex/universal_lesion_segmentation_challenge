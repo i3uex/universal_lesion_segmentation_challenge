{
 "cells": [
  {
   "cell_type": "code",
   "id": "initial_id",
   "metadata": {
    "collapsed": true,
    "ExecuteTime": {
     "end_time": "2024-06-28T08:33:48.822783Z",
     "start_time": "2024-06-28T08:33:48.820271Z"
    }
   },
   "source": [
    "# we are going to try how monai metrics work. In this case we are going to try Dice metric and dice loss function and see what they return\n",
    "from monai.losses import DiceLoss\n",
    "from monai.metrics import DiceMetric\n",
    "import torch"
   ],
   "outputs": [],
   "execution_count": 4
  },
  {
   "metadata": {
    "ExecuteTime": {
     "end_time": "2024-06-28T09:48:31.997079Z",
     "start_time": "2024-06-28T09:48:31.991329Z"
    }
   },
   "cell_type": "code",
   "source": [
    "# create a loss function\n",
    "dice_loss = DiceLoss(sigmoid=False, softmax=False, include_background=True)\n",
    "\n",
    "# create a metric function\n",
    "dice_metric = DiceMetric(include_background=True, reduction=\"mean\")"
   ],
   "id": "66d696f976f92d55",
   "outputs": [],
   "execution_count": 67
  },
  {
   "metadata": {
    "ExecuteTime": {
     "end_time": "2024-06-28T09:49:11.820715Z",
     "start_time": "2024-06-28T09:49:11.815585Z"
    }
   },
   "cell_type": "code",
   "source": [
    "# create a fake prediction and ground truth\n",
    "prediction = torch.tensor([[[1],[0]]], dtype=torch.float32) # torch.tensor([[[[0.3, 0.7], [0.6, 0.4]]]])\n",
    "ground_truth = torch.tensor([[[1],[0]]], dtype=torch.float32)\n",
    "\n",
    "# calculate the loss\n",
    "loss = dice_loss(prediction, ground_truth)"
   ],
   "id": "181b83266eaedd82",
   "outputs": [],
   "execution_count": 68
  },
  {
   "metadata": {
    "ExecuteTime": {
     "end_time": "2024-06-28T09:49:13.891375Z",
     "start_time": "2024-06-28T09:49:13.884145Z"
    }
   },
   "cell_type": "code",
   "source": "print(loss)",
   "id": "3a4ca64a3e3dbada",
   "outputs": [
    {
     "name": "stdout",
     "output_type": "stream",
     "text": [
      "tensor(0.)\n"
     ]
    }
   ],
   "execution_count": 69
  },
  {
   "metadata": {
    "ExecuteTime": {
     "end_time": "2024-06-28T09:39:47.105293Z",
     "start_time": "2024-06-28T09:39:47.096957Z"
    }
   },
   "cell_type": "code",
   "source": [
    "# Now calculate the metric\n",
    "dice_metric(prediction, ground_truth)"
   ],
   "id": "5f3663806c8521ae",
   "outputs": [
    {
     "data": {
      "text/plain": [
       "tensor([[1.]])"
      ]
     },
     "execution_count": 47,
     "metadata": {},
     "output_type": "execute_result"
    }
   ],
   "execution_count": 47
  },
  {
   "metadata": {},
   "cell_type": "code",
   "outputs": [],
   "execution_count": null,
   "source": "",
   "id": "bfc7dc3297843c39"
  }
 ],
 "metadata": {
  "kernelspec": {
   "display_name": "Python 3",
   "language": "python",
   "name": "python3"
  },
  "language_info": {
   "codemirror_mode": {
    "name": "ipython",
    "version": 2
   },
   "file_extension": ".py",
   "mimetype": "text/x-python",
   "name": "python",
   "nbconvert_exporter": "python",
   "pygments_lexer": "ipython2",
   "version": "2.7.6"
  }
 },
 "nbformat": 4,
 "nbformat_minor": 5
}
